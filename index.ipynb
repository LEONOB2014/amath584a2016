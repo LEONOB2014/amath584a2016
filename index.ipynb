{
 "cells": [
  {
   "cell_type": "markdown",
   "metadata": {},
   "source": [
    "# Index of Jupyter notebooks\n",
    "\n",
    "[AMath 584, Autumn Quarter 2016](http://faculty.washington.edu/rjl/classes/am584a2016/)\n",
    "\n",
    "- [notebooks/LinearAlgebraPython1.ipynb](notebooks/LinearAlgebraPython1.ipynb) (Hints on linear algebra in Python)\n",
    "- [notebooks/Recommender_SVD.ipynb](notebooks/Recommender_SVD.ipynb) (October 14, 2016)\n",
    "\n",
    "- [notebooks/LeastSquares1.ipynb](notebooks/LeastSquares1.ipynb) \n",
    "- [notebooks/LeastSquares2.ipynb](notebooks/LeastSquares1.ipynb) (October 26, 2016)\n",
    "\n",
    "- [notebooks/Homework1_Problem5.ipynb](notebooks/Homework1_Problem5.ipynb)\n",
    "- [notebooks/Homework2_Problem8.ipynb](notebooks/Homework2_Problem8.ipynb)\n",
    "\n",
    "\n",
    "\n"
   ]
  },
  {
   "cell_type": "markdown",
   "metadata": {},
   "source": [
    "Remember to \"`git pull`\" in your [class repository](http://faculty.washington.edu/rjl/classes/am584a2016/class_repos.html) to bring down the new notebooks."
   ]
  },
  {
   "cell_type": "code",
   "execution_count": null,
   "metadata": {
    "collapsed": true
   },
   "outputs": [],
   "source": []
  }
 ],
 "metadata": {
  "kernelspec": {
   "display_name": "Python 2",
   "language": "python",
   "name": "python2"
  },
  "language_info": {
   "codemirror_mode": {
    "name": "ipython",
    "version": 2
   },
   "file_extension": ".py",
   "mimetype": "text/x-python",
   "name": "python",
   "nbconvert_exporter": "python",
   "pygments_lexer": "ipython2",
   "version": "2.7.11"
  },
  "widgets": {
   "state": {},
   "version": "1.1.2"
  }
 },
 "nbformat": 4,
 "nbformat_minor": 0
}
